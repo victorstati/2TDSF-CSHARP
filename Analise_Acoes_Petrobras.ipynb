{
  "nbformat": 4,
  "nbformat_minor": 0,
  "metadata": {
    "colab": {
      "name": "Analise_Acoes_Petrobras.ipynb",
      "provenance": [],
      "collapsed_sections": [],
      "toc_visible": true,
      "mount_file_id": "17pYHQuWdBjU8YhKR5nzA5IbqUVSl4NJr",
      "authorship_tag": "ABX9TyNP6XGZCFnZQFlimK9HT/8C",
      "include_colab_link": true
    },
    "kernelspec": {
      "name": "python3",
      "display_name": "Python 3"
    }
  },
  "cells": [
    {
      "cell_type": "markdown",
      "metadata": {
        "id": "view-in-github",
        "colab_type": "text"
      },
      "source": [
        "<a href=\"https://colab.research.google.com/github/victorstati/2TDSF-CSHARP/blob/master/Analise_Acoes_Petrobras.ipynb\" target=\"_parent\"><img src=\"https://colab.research.google.com/assets/colab-badge.svg\" alt=\"Open In Colab\"/></a>"
      ]
    },
    {
      "cell_type": "code",
      "metadata": {
        "id": "2V5TFwdyOuBO",
        "colab_type": "code",
        "colab": {}
      },
      "source": [
        "import google.colab from drive\n",
        "drive.mount('/content/drive')"
      ],
      "execution_count": 0,
      "outputs": []
    },
    {
      "cell_type": "markdown",
      "metadata": {
        "id": "q-HCtgtJO2TD",
        "colab_type": "text"
      },
      "source": [
        "**Importar pandas e ler dados de Preço**\n"
      ]
    },
    {
      "cell_type": "code",
      "metadata": {
        "id": "2CjBQc89O6yF",
        "colab_type": "code",
        "colab": {}
      },
      "source": [
        "import plotly\n",
        "import plotly.offline as py"
      ],
      "execution_count": 0,
      "outputs": []
    },
    {
      "cell_type": "code",
      "metadata": {
        "id": "c-b2moPhPBwj",
        "colab_type": "code",
        "colab": {}
      },
      "source": [
        "#habilita modo offline\n",
        "from plotly.offline import plot, iplot\n",
        "plotly.offline.init_notebook_mode(connected=True)"
      ],
      "execution_count": 0,
      "outputs": []
    },
    {
      "cell_type": "code",
      "metadata": {
        "id": "3uO_KQkgPxmM",
        "colab_type": "code",
        "colab": {}
      },
      "source": [
        "import pandas as pd\n",
        "df = pd.read_csv(\"/content/drive/My Drive/datasets/PETR4.SA.csv\")"
      ],
      "execution_count": 0,
      "outputs": []
    },
    {
      "cell_type": "code",
      "metadata": {
        "id": "Jhib0BqvQT1f",
        "colab_type": "code",
        "outputId": "4e35d010-aeea-42c3-d871-35638b823845",
        "colab": {
          "base_uri": "https://localhost:8080/"
        }
      },
      "source": [
        "df.head()"
      ],
      "execution_count": 0,
      "outputs": [
        {
          "output_type": "error",
          "ename": "NameError",
          "evalue": "ignored",
          "traceback": [
            "\u001b[0;31m---------------------------------------------------------------------------\u001b[0m",
            "\u001b[0;31mNameError\u001b[0m                                 Traceback (most recent call last)",
            "\u001b[0;32m<ipython-input-8-c42a15b2c7cf>\u001b[0m in \u001b[0;36m<module>\u001b[0;34m()\u001b[0m\n\u001b[0;32m----> 1\u001b[0;31m \u001b[0mdf\u001b[0m\u001b[0;34m.\u001b[0m\u001b[0mhead\u001b[0m\u001b[0;34m(\u001b[0m\u001b[0;34m)\u001b[0m\u001b[0;34m\u001b[0m\u001b[0;34m\u001b[0m\u001b[0m\n\u001b[0m",
            "\u001b[0;31mNameError\u001b[0m: name 'df' is not defined"
          ]
        }
      ]
    },
    {
      "cell_type": "markdown",
      "metadata": {
        "id": "iQj5wMuZQdRk",
        "colab_type": "text"
      },
      "source": [
        "**Visualizando a série de dados**"
      ]
    },
    {
      "cell_type": "code",
      "metadata": {
        "id": "B4m6lwpXQgl8",
        "colab_type": "code",
        "colab": {}
      },
      "source": [
        "import plotly.io as pio\n",
        "pio.renderers"
      ],
      "execution_count": 0,
      "outputs": []
    },
    {
      "cell_type": "code",
      "metadata": {
        "id": "iFMeeyW3Qm69",
        "colab_type": "code",
        "colab": {}
      },
      "source": [
        "pio.renderers.default = \"colab\""
      ],
      "execution_count": 0,
      "outputs": []
    },
    {
      "cell_type": "markdown",
      "metadata": {
        "id": "HP3OyBgsQtE8",
        "colab_type": "text"
      },
      "source": [
        "**Plotando preços de fechamento da ação AAPL(apple)**"
      ]
    },
    {
      "cell_type": "code",
      "metadata": {
        "id": "V4556tzpQyvl",
        "colab_type": "code",
        "colab": {}
      },
      "source": [
        "import plotly.graph_objs as go \n",
        "data = [go.Scatter(x = df.Date, y = df['Close'])]\n",
        "py.iplot(data)"
      ],
      "execution_count": 0,
      "outputs": []
    },
    {
      "cell_type": "markdown",
      "metadata": {
        "id": "m1SACGzUSTEp",
        "colab_type": "text"
      },
      "source": [
        "**Customizando Faixas de Eixos (Range)**"
      ]
    },
    {
      "cell_type": "code",
      "metadata": {
        "id": "MkdyToD9SaM8",
        "colab_type": "code",
        "colab": {}
      },
      "source": [
        "import plotly.graph_objs as go\n",
        "\n",
        "# Define o gráfico\n",
        "Close = go.Scatter(\n",
        "    x = df.Date, \n",
        "    y = df.Close\n",
        "    name = \"PETR4 High\",\n",
        "    line = dict(color = \"#17BECF\"),\n",
        "    opacity = 0.8)\n",
        "\n",
        "data = [Close]\n",
        "\n",
        "# Define o layout\n",
        "layout = dict(\n",
        "    title = \"Faixa de Data Customizada\",\n",
        "    title_x = 0.5,\n",
        "    xaxis = dict(range = ['2017-01-01', '2017-12-31'])\n",
        ")\n",
        "\n",
        "# Define a figura\n",
        "fig = dict(data = data, layout = layout)\n",
        "py.iplot(fig, filename = \"Manually Set Range\")"
      ],
      "execution_count": 0,
      "outputs": []
    },
    {
      "cell_type": "markdown",
      "metadata": {
        "id": "pjn6ZfjvX71M",
        "colab_type": "text"
      },
      "source": [
        "**Rabgerslider e Rangeselector**"
      ]
    },
    {
      "cell_type": "code",
      "metadata": {
        "id": "e-TAsrzzYBvr",
        "colab_type": "code",
        "colab": {}
      },
      "source": [
        "# Define o gráfico\n",
        "Close = go.Scatter(\n",
        "    x = df.Date, \n",
        "    y = df.Close\n",
        "    name = \"PETR4 High\",\n",
        "    line = dict(color = \"#17BECF\"),\n",
        "    opacity = 0.8)\n",
        "\n",
        "data = [Close]\n",
        "\n",
        "# Define o layout\n",
        "layout = dict(\n",
        "    title = \"Série com Rangeslider e Botoes\",\n",
        "    title_x = 0.5,\n",
        "    xaxis = dict(\n",
        "        rangeselector = dict(\n",
        "            buttons = list([\n",
        "                            dict(count = 1,\n",
        "                                 label = '1m',\n",
        "                                 step = 'month',\n",
        "                                 stepmode = 'backward'),\n",
        "                            dict(count = 6,\n",
        "                                 label = '6m',\n",
        "                                 step = 'month',\n",
        "                                 stepmode = 'backward'),\n",
        "                            dict(step = 'all')\n",
        "            ])\n",
        "        ),\n",
        "        rangeslider = dict(visible=True),\n",
        "        type = 'date'\n",
        "    )\n",
        ")\n",
        "\n",
        "fig = dict(data = data, layout = layout)\n",
        "py.iplot(fig)"
      ],
      "execution_count": 0,
      "outputs": []
    },
    {
      "cell_type": "markdown",
      "metadata": {
        "id": "3rcz4IAeZrCl",
        "colab_type": "text"
      },
      "source": [
        "**Trabalhando com Candlesticks**"
      ]
    },
    {
      "cell_type": "code",
      "metadata": {
        "id": "P3iVvCSKZuVy",
        "colab_type": "code",
        "colab": {}
      },
      "source": [
        "# São velas que quando estão positivas ficam na cor verde e vermelha quando estão negativas\n",
        "trace = go.Candlestick(\n",
        "    x = df.Date,\n",
        "    open = df['Open'],\n",
        "    high = df['High'],\n",
        "    low = df['Low'],\n",
        "    close = df['Close']\n",
        ")\n",
        "\n",
        "data = [trace]\n",
        "py.iplot(data, filename = 'simple_candlestick')"
      ],
      "execution_count": 0,
      "outputs": []
    },
    {
      "cell_type": "markdown",
      "metadata": {
        "id": "gf9MHAAIbPEN",
        "colab_type": "text"
      },
      "source": [
        "**Sem Rangerslider**"
      ]
    },
    {
      "cell_type": "code",
      "metadata": {
        "id": "FVuzvQY2bWA6",
        "colab_type": "code",
        "colab": {}
      },
      "source": [
        "trace = go.Candlestick(\n",
        "    x = df.Date,\n",
        "    open = df['Open'],\n",
        "    high = df['High'],\n",
        "    low = df['Low'],\n",
        "    close = df['Close']\n",
        ")\n",
        "\n",
        "# Desabilita o rangeslider no layout\n",
        "layout = go.Layout(\n",
        "    title = 'Preços em Candlesticks',\n",
        "    title_x = 0.5,\n",
        "    xaxis = dict(\n",
        "        rangeslider = dict(\n",
        "            visible = False\n",
        "        )\n",
        "    )\n",
        ")\n",
        "\n",
        "data = [trace]\n",
        "\n",
        "fig = go.Figure(data = data, layout = layout)\n",
        "py.iplot(fig)"
      ],
      "execution_count": 0,
      "outputs": []
    },
    {
      "cell_type": "markdown",
      "metadata": {
        "id": "lH8mkOWjc1Bu",
        "colab_type": "text"
      },
      "source": [
        "**Customizando Candlesticks**"
      ]
    },
    {
      "cell_type": "code",
      "metadata": {
        "id": "t2W9PKEyc3cC",
        "colab_type": "code",
        "colab": {}
      },
      "source": [
        "trace = go.Candlestick(\n",
        "    x = df.Date,\n",
        "    open = df['Open'],\n",
        "    high = df['High'],\n",
        "    low = df['Low'],\n",
        "    close = df['Close']\n",
        "    increasing = dict(line = dict(color=\"#17BECF\"))\n",
        "    decreasing = dict(line = dict(color=\"#7F7F7F\"))\n",
        ")\n",
        "\n",
        "# Desabilita o rangeslider no layout\n",
        "layout = go.Layout(\n",
        "    title = 'Preços em Candlesticks',\n",
        "    title_x = 0.5,\n",
        "    xaxis = dict(\n",
        "        rangeslider = dict(\n",
        "            visible = False\n",
        "        )\n",
        "    )\n",
        ")\n",
        "data = [trace]\n",
        "fig = go.Figure(data = data, layout = layout)\n",
        "py.iplot(fig)"
      ],
      "execution_count": 0,
      "outputs": []
    },
    {
      "cell_type": "markdown",
      "metadata": {
        "id": "oSO5CepseDr2",
        "colab_type": "text"
      },
      "source": [
        "**Inserindo Anotações**"
      ]
    },
    {
      "cell_type": "code",
      "metadata": {
        "id": "3c2URzUfeFq1",
        "colab_type": "code",
        "colab": {}
      },
      "source": [
        "trace = go.Candlestick(\n",
        "    x = df.Date,\n",
        "    open = df['Open'],\n",
        "    high = df['High'],\n",
        "    low = df['Low'],\n",
        "    close = df['Close']\n",
        ")\n",
        "\n",
        "data = [trace]\n",
        "\n",
        "layout = {\n",
        "    'title': 'PETR4 Preços no Período',\n",
        "    'title_x': 0.5,\n",
        "    'y_axis': {'title': 'PETR4 Preços'},\n",
        "    'annotations': [{\n",
        "        'x': '2017-05-07',\n",
        "        'y': 15,\n",
        "        'xref': 'x',\n",
        "        'yref': 'y',\n",
        "        'showarrow': True,\n",
        "        'font': dict(\n",
        "            family = 'Courier New, monospace',\n",
        "            size = 12\n",
        "        ),\n",
        "        'text': 'Audio Joesley',\n",
        "        'align': 'center',\n",
        "        'arrowhead': 2,\n",
        "        'arrowsize': 1,\n",
        "        'arrowwidth': 2,\n",
        "        'bordercolor': '#c7c7c7',\n",
        "        'borderwidth': 2,\n",
        "        'borderpad':4\n",
        "    },\n",
        "    {\n",
        "        'x': '2016-01-01',\n",
        "        'y': 7,\n",
        "        'xref': 'x',\n",
        "        'yref': 'y',\n",
        "        'showarrow': True,\n",
        "        'font': dict(\n",
        "            family = 'Courier New, monospace',\n",
        "            size = 12\n",
        "        ),\n",
        "        'text': 'Impeachment Dilma',\n",
        "        'align': 'center',\n",
        "        'arrowhead': 2,\n",
        "        'arrowsize': 1,\n",
        "        'arrowwidth': 2,\n",
        "        'bordercolor': '#c7c7c7',\n",
        "        'borderwidth': 2,\n",
        "        'borderpad':4\n",
        "    },\n",
        "    {\n",
        "      'x': '2018-05-27',\n",
        "      'y': 27,\n",
        "      'xref': 'x',\n",
        "      'yref': 'y',\n",
        "      'showarrow': True,\n",
        "      'font': dict(\n",
        "          family = 'Courier New, monospace',\n",
        "          size = 12\n",
        "      ),\n",
        "      'text': 'Greve dos Caminhoneiros',\n",
        "      'align': 'center',\n",
        "      'arrowhead': 2,\n",
        "      'arrowsize': 1,\n",
        "      'arrowwidth': 2,\n",
        "      'bordercolor': '#c7c7c7',\n",
        "      'borderwidth': 2,\n",
        "      'borderpad':4\n",
        "    }\n",
        "  ]\n",
        "}\n",
        "\n",
        "fig = dict(data = data, layout = layout)\n",
        "py.iplot(fig)"
      ],
      "execution_count": 0,
      "outputs": []
    },
    {
      "cell_type": "markdown",
      "metadata": {
        "id": "nCRjbIBmgSaR",
        "colab_type": "text"
      },
      "source": [
        "**Trabalhando com Médias**"
      ]
    },
    {
      "cell_type": "code",
      "metadata": {
        "id": "KmoiKkvtgU3t",
        "colab_type": "code",
        "colab": {}
      },
      "source": [
        "df.head()"
      ],
      "execution_count": 0,
      "outputs": []
    },
    {
      "cell_type": "code",
      "metadata": {
        "id": "6KYtGvr6hoZs",
        "colab_type": "code",
        "colab": {}
      },
      "source": [
        "# Média simples de 9 dias\n",
        "df['MM_9'] = df.Close.rolling(window=9).mean()\n",
        "\n",
        "# Média simples de 17 dias\n",
        "df['MM_17'] = df.Close.rolling(window=17).mean()"
      ],
      "execution_count": 0,
      "outputs": []
    },
    {
      "cell_type": "code",
      "metadata": {
        "id": "qsuLu-vmh9dT",
        "colab_type": "code",
        "colab": {}
      },
      "source": [
        "# Visualizando as colunas criadas\n",
        "df.head(20)"
      ],
      "execution_count": 0,
      "outputs": []
    },
    {
      "cell_type": "markdown",
      "metadata": {
        "id": "DnMfkKJIiC-T",
        "colab_type": "text"
      },
      "source": [
        "**Plota as Médias e os Preços**"
      ]
    },
    {
      "cell_type": "code",
      "metadata": {
        "id": "rbKStnYMiFlM",
        "colab_type": "code",
        "colab": {}
      },
      "source": [
        "close = go.Scatter(\n",
        "    x = df.Date,\n",
        "    y = df.Close,\n",
        "    name = 'PETR4 Close'\n",
        "    line = dict(color = \"#330000\"),\n",
        "    opacity = 0.8\n",
        ")\n",
        "\n",
        "MM_9 = go.Scatter(\n",
        "    x = df.Date,\n",
        "    y = df['MM_9'],\n",
        "    name = 'Média Móvel 9 Períodos'\n",
        "    line = dict(color = \"#B2FF66\"),\n",
        "    opacity = 0.8\n",
        ")\n",
        "\n",
        "MM_17 = go.Scatter(\n",
        "    x = df.Date,\n",
        "    y = df['MM_17'],\n",
        "    name = 'Média Móvel 17 Períodos'\n",
        "    line = dict(color = \"#FF00FF\"),\n",
        "    opacity = 0.8\n",
        ")\n",
        "\n",
        "data = [close, MM_9, MM_17]\n",
        "py.iplot(data)"
      ],
      "execution_count": 0,
      "outputs": []
    },
    {
      "cell_type": "code",
      "metadata": {
        "id": "e3Wgs6lLkVIH",
        "colab_type": "code",
        "colab": {}
      },
      "source": [
        "# Média simples de 3 dias\n",
        "df['MM_3'] = df.Close.rolling(window=3).mean()\n",
        "\n",
        "# Média simples de 9 dias\n",
        "df['MM_9'] = df.Close.rolling(window=9).mean()\n",
        "\n",
        "# Média simples de 17 dias\n",
        "df['MM_17'] = df.Close.rolling(window=17).mean()"
      ],
      "execution_count": 0,
      "outputs": []
    },
    {
      "cell_type": "code",
      "metadata": {
        "id": "L0hlFNpmkh8d",
        "colab_type": "code",
        "colab": {}
      },
      "source": [
        "close = go.Scatter(\n",
        "    x = df.Date,\n",
        "    y = df.Close,\n",
        "    name = 'PETR4 Close'\n",
        "    line = dict(color = \"#330000\"),\n",
        "    opacity = 0.8\n",
        ")\n",
        "\n",
        "MM_3 = go.Scatter(\n",
        "    x = df.Date,\n",
        "    y = df['MM_3'],\n",
        "    name = 'Média Móvel 3 Períodos'\n",
        "    line = dict(color = \"#FF8000\"),\n",
        "    opacity = 0.8\n",
        ")\n",
        "\n",
        "MM_9 = go.Scatter(\n",
        "    x = df.Date,\n",
        "    y = df['MM_9'],\n",
        "    name = 'Média Móvel 9 Períodos'\n",
        "    line = dict(color = \"#B2FF66\"),\n",
        "    opacity = 0.8\n",
        ")\n",
        "\n",
        "MM_17 = go.Scatter(\n",
        "    x = df.Date,\n",
        "    y = df['MM_17'],\n",
        "    name = 'Média Móvel 17 Períodos'\n",
        "    line = dict(color = \"#FF00FF\"),\n",
        "    opacity = 0.8\n",
        ")\n",
        "\n",
        "data = [close, MM_3, MM_9, MM_17]\n",
        "py.iplot(data)"
      ],
      "execution_count": 0,
      "outputs": []
    },
    {
      "cell_type": "markdown",
      "metadata": {
        "id": "c6gdE1ndk2qA",
        "colab_type": "text"
      },
      "source": [
        "**Trabalhando com Médias menores**"
      ]
    },
    {
      "cell_type": "code",
      "metadata": {
        "id": "oQna7Yljk_0O",
        "colab_type": "code",
        "colab": {}
      },
      "source": [
        "# Média simples de 3 dias\n",
        "df['MM_3'] = df.Close.rolling(window=3).mean()\n",
        "\n",
        "# Média simples de 7 dias\n",
        "df['MM_7'] = df.Close.rolling(window=7).mean()"
      ],
      "execution_count": 0,
      "outputs": []
    },
    {
      "cell_type": "code",
      "metadata": {
        "id": "xjFQ2rAjlFNA",
        "colab_type": "code",
        "colab": {}
      },
      "source": [
        "close = go.Scatter(\n",
        "    x = df.Date,\n",
        "    y = df.Close,\n",
        "    name = 'PETR4 Close'\n",
        "    line = dict(color = \"#330000\"),\n",
        "    opacity = 0.8\n",
        ")\n",
        "\n",
        "MM_3 = go.Scatter(\n",
        "    x = df.Date,\n",
        "    y = df['MM_3'],\n",
        "    name = 'Média Móvel 3 Períodos'\n",
        "    line = dict(color = \"#FF8000\"),\n",
        "    opacity = 0.8\n",
        ")\n",
        "\n",
        "MM_7 = go.Scatter(\n",
        "    x = df.Date,\n",
        "    y = df['MM_7'],\n",
        "    name = 'Média Móvel 7 Períodos'\n",
        "    line = dict(color = \"#CC00CC\"),\n",
        "    opacity = 0.8\n",
        ")\n",
        "\n",
        "data = [close, MM_3, MM_7]\n",
        "py.iplot(data)"
      ],
      "execution_count": 0,
      "outputs": []
    }
  ]
}